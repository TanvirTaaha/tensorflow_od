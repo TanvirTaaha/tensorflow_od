{
 "cells": [
  {
   "cell_type": "markdown",
   "metadata": {},
   "source": [
    "# 1. Import Dependencies"
   ]
  },
  {
   "cell_type": "code",
   "execution_count": 18,
   "metadata": {},
   "outputs": [
    {
     "name": "stdout",
     "output_type": "stream",
     "text": [
      "Collecting package metadata (current_repodata.json): done\n",
      "Solving environment: failed with initial frozen solve. Retrying with flexible solve.\n",
      "Collecting package metadata (repodata.json): done\n",
      "Solving environment: failed with initial frozen solve. Retrying with flexible solve.\n",
      "\n",
      "PackagesNotFoundError: The following packages are not available from current channels:\n",
      "\n",
      "  - opencv-python\n",
      "\n",
      "Current channels:\n",
      "\n",
      "  - https://repo.anaconda.com/pkgs/main/osx-arm64\n",
      "  - https://repo.anaconda.com/pkgs/main/noarch\n",
      "  - https://repo.anaconda.com/pkgs/r/osx-arm64\n",
      "  - https://repo.anaconda.com/pkgs/r/noarch\n",
      "\n",
      "To search for alternate channels that may provide the conda package you're\n",
      "looking for, navigate to\n",
      "\n",
      "    https://anaconda.org\n",
      "\n",
      "and use the search bar at the top of the page.\n",
      "\n",
      "\n"
     ]
    }
   ],
   "source": [
    "!pip install opencv-python"
   ]
  },
  {
   "cell_type": "code",
   "execution_count": 3,
   "metadata": {},
   "outputs": [],
   "source": [
    "# Import opencv\n",
    "import cv2 \n",
    "\n",
    "# Import uuid\n",
    "import uuid\n",
    "\n",
    "# Import Operating System\n",
    "import os\n",
    "\n",
    "# Import time\n",
    "import time"
   ]
  },
  {
   "cell_type": "markdown",
   "metadata": {},
   "source": [
    "# 2. Define Images to Collect"
   ]
  },
  {
   "cell_type": "code",
   "execution_count": 12,
   "metadata": {},
   "outputs": [],
   "source": [
    "labels = ['paper', 'plastic', 'metal', 'cardboard', 'glass', 'trash']\n",
    "number_imgs = 5"
   ]
  },
  {
   "cell_type": "markdown",
   "metadata": {},
   "source": [
    "# 3. Setup Folders "
   ]
  },
  {
   "cell_type": "code",
   "execution_count": 6,
   "metadata": {},
   "outputs": [],
   "source": [
    "IMAGES_PATH = os.path.join('Tensorflow', 'workspace', 'images', 'collectedimages')"
   ]
  },
  {
   "cell_type": "code",
   "execution_count": 14,
   "metadata": {},
   "outputs": [],
   "source": [
    "if not os.path.exists(IMAGES_PATH):\n",
    "    if os.name == 'posix':\n",
    "        !mkdir -p {IMAGES_PATH}\n",
    "    if os.name == 'nt':\n",
    "        !mkdir {IMAGES_PATH}\n",
    "for label in labels:\n",
    "    path = os.path.join(IMAGES_PATH, label)\n",
    "    if not os.path.exists(path):\n",
    "        !mkdir {path}"
   ]
  },
  {
   "cell_type": "markdown",
   "metadata": {},
   "source": [
    "# 4. Capture Images"
   ]
  },
  {
   "cell_type": "code",
   "execution_count": 8,
   "metadata": {},
   "outputs": [
    {
     "name": "stderr",
     "output_type": "stream",
     "text": [
      "OpenCV: not authorized to capture video (status 0), requesting...\n",
      "OpenCV: camera failed to properly initialize!\n"
     ]
    },
    {
     "name": "stdout",
     "output_type": "stream",
     "text": [
      "Collecting images for paper\n",
      "Collecting image 0\n"
     ]
    },
    {
     "ename": "error",
     "evalue": "OpenCV(4.5.5) /Users/xperience/actions-runner/_work/opencv-python/opencv-python/opencv/modules/imgcodecs/src/loadsave.cpp:801: error: (-215:Assertion failed) !_img.empty() in function 'imwrite'\n",
     "output_type": "error",
     "traceback": [
      "\u001b[0;31m---------------------------------------------------------------------------\u001b[0m",
      "\u001b[0;31merror\u001b[0m                                     Traceback (most recent call last)",
      "\u001b[1;32m/Users/taaha/codes/tensorflow_od/TFODCourse/1. Image Collection.ipynb Cell 10'\u001b[0m in \u001b[0;36m<cell line: 1>\u001b[0;34m()\u001b[0m\n\u001b[1;32m      <a href='vscode-notebook-cell:/Users/taaha/codes/tensorflow_od/TFODCourse/1.%20Image%20Collection.ipynb#ch0000009?line=6'>7</a>\u001b[0m ret, frame \u001b[39m=\u001b[39m cap\u001b[39m.\u001b[39mread()\n\u001b[1;32m      <a href='vscode-notebook-cell:/Users/taaha/codes/tensorflow_od/TFODCourse/1.%20Image%20Collection.ipynb#ch0000009?line=7'>8</a>\u001b[0m imgname \u001b[39m=\u001b[39m os\u001b[39m.\u001b[39mpath\u001b[39m.\u001b[39mjoin(IMAGES_PATH,label,label\u001b[39m+\u001b[39m\u001b[39m'\u001b[39m\u001b[39m.\u001b[39m\u001b[39m'\u001b[39m\u001b[39m+\u001b[39m\u001b[39m'\u001b[39m\u001b[39m{}\u001b[39;00m\u001b[39m.jpg\u001b[39m\u001b[39m'\u001b[39m\u001b[39m.\u001b[39mformat(\u001b[39mstr\u001b[39m(uuid\u001b[39m.\u001b[39muuid1())))\n\u001b[0;32m----> <a href='vscode-notebook-cell:/Users/taaha/codes/tensorflow_od/TFODCourse/1.%20Image%20Collection.ipynb#ch0000009?line=8'>9</a>\u001b[0m cv2\u001b[39m.\u001b[39;49mimwrite(imgname, frame)\n\u001b[1;32m     <a href='vscode-notebook-cell:/Users/taaha/codes/tensorflow_od/TFODCourse/1.%20Image%20Collection.ipynb#ch0000009?line=9'>10</a>\u001b[0m cv2\u001b[39m.\u001b[39mimshow(\u001b[39m'\u001b[39m\u001b[39mframe\u001b[39m\u001b[39m'\u001b[39m, frame)\n\u001b[1;32m     <a href='vscode-notebook-cell:/Users/taaha/codes/tensorflow_od/TFODCourse/1.%20Image%20Collection.ipynb#ch0000009?line=10'>11</a>\u001b[0m time\u001b[39m.\u001b[39msleep(\u001b[39m2\u001b[39m)\n",
      "\u001b[0;31merror\u001b[0m: OpenCV(4.5.5) /Users/xperience/actions-runner/_work/opencv-python/opencv-python/opencv/modules/imgcodecs/src/loadsave.cpp:801: error: (-215:Assertion failed) !_img.empty() in function 'imwrite'\n"
     ]
    }
   ],
   "source": [
    "for label in labels:\n",
    "    cap = cv2.VideoCapture(0)\n",
    "    print('Collecting images for {}'.format(label))\n",
    "    time.sleep(5)\n",
    "    for imgnum in range(number_imgs):\n",
    "        print('Collecting image {}'.format(imgnum))\n",
    "        ret, frame = cap.read()\n",
    "        imgname = os.path.join(IMAGES_PATH,label,label+'.'+'{}.jpg'.format(str(uuid.uuid1())))\n",
    "        cv2.imwrite(imgname, frame)\n",
    "        cv2.imshow('frame', frame)\n",
    "        time.sleep(2)\n",
    "\n",
    "        if cv2.waitKey(1) & 0xFF == ord('q'):\n",
    "            break\n",
    "cap.release()\n",
    "cv2.destroyAllWindows()"
   ]
  },
  {
   "cell_type": "markdown",
   "metadata": {},
   "source": [
    "# 5. Image Labelling"
   ]
  },
  {
   "cell_type": "code",
   "execution_count": 1,
   "metadata": {},
   "outputs": [
    {
     "name": "stdout",
     "output_type": "stream",
     "text": [
      "Collecting pyqt5\n",
      "  Using cached PyQt5-5.15.6.tar.gz (3.2 MB)\n",
      "  Installing build dependencies ... \u001b[?25ldone\n",
      "\u001b[?25h  Getting requirements to build wheel ... \u001b[?25ldone\n",
      "\u001b[?25h    Preparing wheel metadata ... \u001b[?25lerror\n",
      "\u001b[31m    ERROR: Command errored out with exit status 1:\n",
      "     command: /Users/taaha/codes/tensorflow_od/envs/tf/bin/python /Users/taaha/codes/tensorflow_od/envs/tf/lib/python3.10/site-packages/pip/_vendor/pep517/in_process/_in_process.py prepare_metadata_for_build_wheel /var/folders/8h/01qqgp2576q28j96nbg938t80000gn/T/tmp36yarkyy\n",
      "         cwd: /private/var/folders/8h/01qqgp2576q28j96nbg938t80000gn/T/pip-install-zmsbo3ng/pyqt5_9d2e40c1de58415aaff930c377232700\n",
      "    Complete output (29 lines):\n",
      "    Traceback (most recent call last):\n",
      "      File \"/Users/taaha/codes/tensorflow_od/envs/tf/lib/python3.10/site-packages/pip/_vendor/pep517/in_process/_in_process.py\", line 143, in prepare_metadata_for_build_wheel\n",
      "        hook = backend.prepare_metadata_for_build_wheel\n",
      "    AttributeError: module 'sipbuild.api' has no attribute 'prepare_metadata_for_build_wheel'\n",
      "    \n",
      "    During handling of the above exception, another exception occurred:\n",
      "    \n",
      "    Traceback (most recent call last):\n",
      "      File \"/Users/taaha/codes/tensorflow_od/envs/tf/lib/python3.10/site-packages/pip/_vendor/pep517/in_process/_in_process.py\", line 349, in <module>\n",
      "        main()\n",
      "      File \"/Users/taaha/codes/tensorflow_od/envs/tf/lib/python3.10/site-packages/pip/_vendor/pep517/in_process/_in_process.py\", line 331, in main\n",
      "        json_out['return_val'] = hook(**hook_input['kwargs'])\n",
      "      File \"/Users/taaha/codes/tensorflow_od/envs/tf/lib/python3.10/site-packages/pip/_vendor/pep517/in_process/_in_process.py\", line 147, in prepare_metadata_for_build_wheel\n",
      "        whl_basename = backend.build_wheel(metadata_directory, config_settings)\n",
      "      File \"/private/var/folders/8h/01qqgp2576q28j96nbg938t80000gn/T/pip-build-env-6ry_maeu/overlay/lib/python3.10/site-packages/sipbuild/api.py\", line 51, in build_wheel\n",
      "        project = AbstractProject.bootstrap('pep517')\n",
      "      File \"/private/var/folders/8h/01qqgp2576q28j96nbg938t80000gn/T/pip-build-env-6ry_maeu/overlay/lib/python3.10/site-packages/sipbuild/abstract_project.py\", line 83, in bootstrap\n",
      "        project.setup(pyproject, tool, tool_description)\n",
      "      File \"/private/var/folders/8h/01qqgp2576q28j96nbg938t80000gn/T/pip-build-env-6ry_maeu/overlay/lib/python3.10/site-packages/sipbuild/project.py\", line 594, in setup\n",
      "        self.apply_user_defaults(tool)\n",
      "      File \"/private/var/folders/8h/01qqgp2576q28j96nbg938t80000gn/T/pip-install-zmsbo3ng/pyqt5_9d2e40c1de58415aaff930c377232700/project.py\", line 63, in apply_user_defaults\n",
      "        super().apply_user_defaults(tool)\n",
      "      File \"/private/var/folders/8h/01qqgp2576q28j96nbg938t80000gn/T/pip-build-env-6ry_maeu/overlay/lib/python3.10/site-packages/pyqtbuild/project.py\", line 70, in apply_user_defaults\n",
      "        super().apply_user_defaults(tool)\n",
      "      File \"/private/var/folders/8h/01qqgp2576q28j96nbg938t80000gn/T/pip-build-env-6ry_maeu/overlay/lib/python3.10/site-packages/sipbuild/project.py\", line 241, in apply_user_defaults\n",
      "        self.builder.apply_user_defaults(tool)\n",
      "      File \"/private/var/folders/8h/01qqgp2576q28j96nbg938t80000gn/T/pip-build-env-6ry_maeu/overlay/lib/python3.10/site-packages/pyqtbuild/builder.py\", line 67, in apply_user_defaults\n",
      "        raise PyProjectOptionException('qmake',\n",
      "    sipbuild.pyproject.PyProjectOptionException\n",
      "    ----------------------------------------\u001b[0m\n",
      "\u001b[?25h\u001b[33mWARNING: Discarding https://files.pythonhosted.org/packages/3b/27/fd81188a35f37be9b3b4c2db1654d9439d1418823916fe702ac3658c9c41/PyQt5-5.15.6.tar.gz#sha256=80343bcab95ffba619f2ed2467fd828ffeb0a251ad7225be5fc06dcc333af452 (from https://pypi.org/simple/pyqt5/) (requires-python:>=3.6). Command errored out with exit status 1: /Users/taaha/codes/tensorflow_od/envs/tf/bin/python /Users/taaha/codes/tensorflow_od/envs/tf/lib/python3.10/site-packages/pip/_vendor/pep517/in_process/_in_process.py prepare_metadata_for_build_wheel /var/folders/8h/01qqgp2576q28j96nbg938t80000gn/T/tmp36yarkyy Check the logs for full command output.\u001b[0m\n",
      "  Using cached PyQt5-5.15.5.tar.gz (3.2 MB)\n",
      "  Installing build dependencies ... \u001b[?25ldone\n",
      "\u001b[?25h  Getting requirements to build wheel ... \u001b[?25ldone\n",
      "\u001b[?25h    Preparing wheel metadata ... \u001b[?25lerror\n",
      "\u001b[31m    ERROR: Command errored out with exit status 1:\n",
      "     command: /Users/taaha/codes/tensorflow_od/envs/tf/bin/python /Users/taaha/codes/tensorflow_od/envs/tf/lib/python3.10/site-packages/pip/_vendor/pep517/in_process/_in_process.py prepare_metadata_for_build_wheel /var/folders/8h/01qqgp2576q28j96nbg938t80000gn/T/tmp0x_4v0d3\n",
      "         cwd: /private/var/folders/8h/01qqgp2576q28j96nbg938t80000gn/T/pip-install-zmsbo3ng/pyqt5_cd73ebf108fd4fd9b7ac03f199d9df31\n",
      "    Complete output (29 lines):\n",
      "    Traceback (most recent call last):\n",
      "      File \"/Users/taaha/codes/tensorflow_od/envs/tf/lib/python3.10/site-packages/pip/_vendor/pep517/in_process/_in_process.py\", line 143, in prepare_metadata_for_build_wheel\n",
      "        hook = backend.prepare_metadata_for_build_wheel\n",
      "    AttributeError: module 'sipbuild.api' has no attribute 'prepare_metadata_for_build_wheel'\n",
      "    \n",
      "    During handling of the above exception, another exception occurred:\n",
      "    \n",
      "    Traceback (most recent call last):\n",
      "      File \"/Users/taaha/codes/tensorflow_od/envs/tf/lib/python3.10/site-packages/pip/_vendor/pep517/in_process/_in_process.py\", line 349, in <module>\n",
      "        main()\n",
      "      File \"/Users/taaha/codes/tensorflow_od/envs/tf/lib/python3.10/site-packages/pip/_vendor/pep517/in_process/_in_process.py\", line 331, in main\n",
      "        json_out['return_val'] = hook(**hook_input['kwargs'])\n",
      "      File \"/Users/taaha/codes/tensorflow_od/envs/tf/lib/python3.10/site-packages/pip/_vendor/pep517/in_process/_in_process.py\", line 147, in prepare_metadata_for_build_wheel\n",
      "        whl_basename = backend.build_wheel(metadata_directory, config_settings)\n",
      "      File \"/private/var/folders/8h/01qqgp2576q28j96nbg938t80000gn/T/pip-build-env-feav63mi/overlay/lib/python3.10/site-packages/sipbuild/api.py\", line 51, in build_wheel\n",
      "        project = AbstractProject.bootstrap('pep517')\n",
      "      File \"/private/var/folders/8h/01qqgp2576q28j96nbg938t80000gn/T/pip-build-env-feav63mi/overlay/lib/python3.10/site-packages/sipbuild/abstract_project.py\", line 83, in bootstrap\n",
      "        project.setup(pyproject, tool, tool_description)\n",
      "      File \"/private/var/folders/8h/01qqgp2576q28j96nbg938t80000gn/T/pip-build-env-feav63mi/overlay/lib/python3.10/site-packages/sipbuild/project.py\", line 594, in setup\n",
      "        self.apply_user_defaults(tool)\n",
      "      File \"/private/var/folders/8h/01qqgp2576q28j96nbg938t80000gn/T/pip-install-zmsbo3ng/pyqt5_cd73ebf108fd4fd9b7ac03f199d9df31/project.py\", line 63, in apply_user_defaults\n",
      "        super().apply_user_defaults(tool)\n",
      "      File \"/private/var/folders/8h/01qqgp2576q28j96nbg938t80000gn/T/pip-build-env-feav63mi/overlay/lib/python3.10/site-packages/pyqtbuild/project.py\", line 70, in apply_user_defaults\n",
      "        super().apply_user_defaults(tool)\n",
      "      File \"/private/var/folders/8h/01qqgp2576q28j96nbg938t80000gn/T/pip-build-env-feav63mi/overlay/lib/python3.10/site-packages/sipbuild/project.py\", line 241, in apply_user_defaults\n",
      "        self.builder.apply_user_defaults(tool)\n",
      "      File \"/private/var/folders/8h/01qqgp2576q28j96nbg938t80000gn/T/pip-build-env-feav63mi/overlay/lib/python3.10/site-packages/pyqtbuild/builder.py\", line 67, in apply_user_defaults\n",
      "        raise PyProjectOptionException('qmake',\n",
      "    sipbuild.pyproject.PyProjectOptionException\n",
      "    ----------------------------------------\u001b[0m\n",
      "\u001b[?25h\u001b[33mWARNING: Discarding https://files.pythonhosted.org/packages/72/bf/4e7c66eefa9ede1ec01d065d220373667f4ca3285a83a6430eefc254904c/PyQt5-5.15.5.tar.gz#sha256=b411b7a8fa03901c9feb1dcbac7ea1fc3ce20b9ae682762b777cd5398749ca2b (from https://pypi.org/simple/pyqt5/) (requires-python:>=3.6). Command errored out with exit status 1: /Users/taaha/codes/tensorflow_od/envs/tf/bin/python /Users/taaha/codes/tensorflow_od/envs/tf/lib/python3.10/site-packages/pip/_vendor/pep517/in_process/_in_process.py prepare_metadata_for_build_wheel /var/folders/8h/01qqgp2576q28j96nbg938t80000gn/T/tmp0x_4v0d3 Check the logs for full command output.\u001b[0m\n",
      "  Using cached PyQt5-5.15.4.tar.gz (3.3 MB)\n",
      "  Installing build dependencies ... \u001b[?25ldone\n",
      "\u001b[?25h  Getting requirements to build wheel ... \u001b[?25l^C\n",
      "\u001b[?25hcanceled\n",
      "\u001b[31mERROR: Operation cancelled by user\u001b[0m\n"
     ]
    }
   ],
   "source": [
    "!pip install --upgrade pyqt5 lxml"
   ]
  },
  {
   "cell_type": "code",
   "execution_count": 11,
   "metadata": {},
   "outputs": [],
   "source": [
    "LABELIMG_PATH = os.path.join('Tensorflow', 'labelimg')"
   ]
  },
  {
   "cell_type": "code",
   "execution_count": 12,
   "metadata": {},
   "outputs": [
    {
     "name": "stderr",
     "output_type": "stream",
     "text": [
      "Cloning into 'Tensorflow\\labelimg'...\n"
     ]
    }
   ],
   "source": [
    "if not os.path.exists(LABELIMG_PATH):\n",
    "    !mkdir {LABELIMG_PATH}\n",
    "    !git clone https://github.com/tzutalin/labelImg {LABELIMG_PATH}"
   ]
  },
  {
   "cell_type": "code",
   "execution_count": 13,
   "metadata": {},
   "outputs": [],
   "source": [
    "if os.name == 'posix':\n",
    "    !make qt5py3\n",
    "if os.name =='nt':\n",
    "    !cd {LABELIMG_PATH} && pyrcc5 -o libs/resources.py resources.qrc"
   ]
  },
  {
   "cell_type": "code",
   "execution_count": 19,
   "metadata": {},
   "outputs": [
    {
     "name": "stdout",
     "output_type": "stream",
     "text": [
      "Image:D:\\YouTube\\OD\\TFODCourse\\Tensorflow\\workspace\\images\\collectedimages\\thumbsup\\thumbsup.6a706a36-940f-11eb-b4eb-5cf3709bbcc6.jpg -> Annotation:D:/YouTube/OD/TFODCourse/Tensorflow/workspace/images/collectedimages/thumbsup/thumbsup.6a706a36-940f-11eb-b4eb-5cf3709bbcc6.xml\n",
      "Image:D:\\YouTube\\OD\\TFODCourse\\Tensorflow\\workspace\\images\\collectedimages\\thumbsup\\thumbsup.6ba4d864-940f-11eb-8c74-5cf3709bbcc6.jpg -> Annotation:D:/YouTube/OD/TFODCourse/Tensorflow/workspace/images/collectedimages/thumbsup/thumbsup.6ba4d864-940f-11eb-8c74-5cf3709bbcc6.xml\n",
      "Image:D:\\YouTube\\OD\\TFODCourse\\Tensorflow\\workspace\\images\\collectedimages\\thumbsup\\thumbsup.6cd9c8e2-940f-11eb-b901-5cf3709bbcc6.jpg -> Annotation:D:/YouTube/OD/TFODCourse/Tensorflow/workspace/images/collectedimages/thumbsup/thumbsup.6cd9c8e2-940f-11eb-b901-5cf3709bbcc6.xml\n",
      "Image:D:\\YouTube\\OD\\TFODCourse\\Tensorflow\\workspace\\images\\collectedimages\\thumbsup\\thumbsup.6e0f5bc0-940f-11eb-8d18-5cf3709bbcc6.jpg -> Annotation:D:/YouTube/OD/TFODCourse/Tensorflow/workspace/images/collectedimages/thumbsup/thumbsup.6e0f5bc0-940f-11eb-8d18-5cf3709bbcc6.xml\n",
      "Image:D:\\YouTube\\OD\\TFODCourse\\Tensorflow\\workspace\\images\\collectedimages\\thumbsup\\thumbsup.693a5158-940f-11eb-8752-5cf3709bbcc6.jpg -> Annotation:D:/YouTube/OD/TFODCourse/Tensorflow/workspace/images/collectedimages/thumbsup/thumbsup.693a5158-940f-11eb-8752-5cf3709bbcc6.xml\n"
     ]
    }
   ],
   "source": [
    "!cd {LABELIMG_PATH} && python labelImg.py"
   ]
  },
  {
   "cell_type": "markdown",
   "metadata": {},
   "source": [
    "# 6. Move them into a Training and Testing Partition"
   ]
  },
  {
   "cell_type": "markdown",
   "metadata": {},
   "source": [
    "# OPTIONAL - 7. Compress them for Colab Training"
   ]
  },
  {
   "cell_type": "code",
   "execution_count": 20,
   "metadata": {},
   "outputs": [],
   "source": [
    "TRAIN_PATH = os.path.join('Tensorflow', 'workspace', 'images', 'train')\n",
    "TEST_PATH = os.path.join('Tensorflow', 'workspace', 'images', 'test')\n",
    "ARCHIVE_PATH = os.path.join('Tensorflow', 'workspace', 'images', 'archive.tar.gz')"
   ]
  },
  {
   "cell_type": "code",
   "execution_count": 21,
   "metadata": {},
   "outputs": [],
   "source": [
    "!tar -czf {ARCHIVE_PATH} {TRAIN_PATH} {TEST_PATH}"
   ]
  },
  {
   "cell_type": "code",
   "execution_count": null,
   "metadata": {},
   "outputs": [],
   "source": []
  }
 ],
 "metadata": {
  "interpreter": {
   "hash": "58ed6293fbecd0743b3b7e1a5015794e859abc613ce419751605211b3285200a"
  },
  "kernelspec": {
   "display_name": "Python 3.10.4 (conda)",
   "language": "python",
   "name": "python3"
  },
  "language_info": {
   "codemirror_mode": {
    "name": "ipython",
    "version": 3
   },
   "file_extension": ".py",
   "mimetype": "text/x-python",
   "name": "python",
   "nbconvert_exporter": "python",
   "pygments_lexer": "ipython3",
   "version": "3.10.4"
  }
 },
 "nbformat": 4,
 "nbformat_minor": 2
}
